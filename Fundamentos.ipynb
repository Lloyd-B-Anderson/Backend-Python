{
 "cells": [
  {
   "cell_type": "code",
   "execution_count": null,
   "id": "a9212aae",
   "metadata": {},
   "outputs": [],
   "source": [
    "A = \"Backend Python\"\n",
    "print(\"El curso es:\", A)"
   ]
  },
  {
   "cell_type": "markdown",
   "id": "f4097ee7",
   "metadata": {},
   "source": [
    "## Palabras Reservadas en Python"
   ]
  },
  {
   "cell_type": "code",
   "execution_count": 3,
   "id": "705f9970",
   "metadata": {},
   "outputs": [
    {
     "name": "stdout",
     "output_type": "stream",
     "text": [
      "\n",
      "Here is a list of the Python keywords.  Enter any keyword to get more help.\n",
      "\n",
      "False               class               from                or\n",
      "None                continue            global              pass\n",
      "True                def                 if                  raise\n",
      "and                 del                 import              return\n",
      "as                  elif                in                  try\n",
      "assert              else                is                  while\n",
      "async               except              lambda              with\n",
      "await               finally             nonlocal            yield\n",
      "break               for                 not                 \n",
      "\n"
     ]
    }
   ],
   "source": [
    "help(\"keywords\")"
   ]
  },
  {
   "cell_type": "markdown",
   "id": "387313be",
   "metadata": {},
   "source": [
    "## Caracteres de Escape en Python"
   ]
  },
  {
   "cell_type": "code",
   "execution_count": 4,
   "id": "28db8c78",
   "metadata": {},
   "outputs": [
    {
     "data": {
      "text/plain": [
       "\"'\""
      ]
     },
     "execution_count": 4,
     "metadata": {},
     "output_type": "execute_result"
    }
   ],
   "source": [
    "\"\\'\" #Single Quote"
   ]
  },
  {
   "cell_type": "code",
   "execution_count": 5,
   "id": "1409e4ed",
   "metadata": {},
   "outputs": [
    {
     "data": {
      "text/plain": [
       "'\"'"
      ]
     },
     "execution_count": 5,
     "metadata": {},
     "output_type": "execute_result"
    }
   ],
   "source": [
    "\"\\\"\" #Double Quote "
   ]
  },
  {
   "cell_type": "code",
   "execution_count": 6,
   "id": "0a329b72",
   "metadata": {},
   "outputs": [
    {
     "data": {
      "text/plain": [
       "'\\n'"
      ]
     },
     "execution_count": 6,
     "metadata": {},
     "output_type": "execute_result"
    }
   ],
   "source": [
    "\"\\n\" #New Line"
   ]
  },
  {
   "cell_type": "code",
   "execution_count": 7,
   "id": "5a2cd720",
   "metadata": {},
   "outputs": [
    {
     "data": {
      "text/plain": [
       "'\\t'"
      ]
     },
     "execution_count": 7,
     "metadata": {},
     "output_type": "execute_result"
    }
   ],
   "source": [
    "\"\\t\" #Tab "
   ]
  },
  {
   "cell_type": "code",
   "execution_count": 9,
   "id": "197e1677",
   "metadata": {},
   "outputs": [
    {
     "name": "stdout",
     "output_type": "stream",
     "text": [
      "Backend\tPython\tDe EBAC\n"
     ]
    }
   ],
   "source": [
    "My_course = \"Backend\\tPython\\tDe EBAC\"\n",
    "print(My_course)"
   ]
  },
  {
   "cell_type": "code",
   "execution_count": 10,
   "id": "46ced5a5",
   "metadata": {},
   "outputs": [
    {
     "data": {
      "text/plain": [
       "'\\r'"
      ]
     },
     "execution_count": 10,
     "metadata": {},
     "output_type": "execute_result"
    }
   ],
   "source": [
    "\"\\r\" #Carriage Return"
   ]
  },
  {
   "cell_type": "code",
   "execution_count": 11,
   "id": "831422b9",
   "metadata": {},
   "outputs": [
    {
     "name": "stdout",
     "output_type": "stream",
     "text": [
      "Backend\r",
      "Python\r",
      "De EBAC\n"
     ]
    }
   ],
   "source": [
    "My_course = \"Backend\\rPython\\rDe EBAC\"\n",
    "print(My_course)"
   ]
  },
  {
   "cell_type": "code",
   "execution_count": 12,
   "id": "71c49cae",
   "metadata": {},
   "outputs": [
    {
     "data": {
      "text/plain": [
       "'\\x08'"
      ]
     },
     "execution_count": 12,
     "metadata": {},
     "output_type": "execute_result"
    }
   ],
   "source": [
    "\"\\b\" #Backspace "
   ]
  },
  {
   "cell_type": "code",
   "execution_count": 13,
   "id": "fda1a37d",
   "metadata": {},
   "outputs": [
    {
     "name": "stdout",
     "output_type": "stream",
     "text": [
      "Backend\bPython De EBAC\n"
     ]
    }
   ],
   "source": [
    "My_course = \"Backend\\bPython De EBAC\"\n",
    "#Elimino la \"d\"\n",
    "print(My_course)"
   ]
  },
  {
   "cell_type": "code",
   "execution_count": 14,
   "id": "1b5aaf95",
   "metadata": {},
   "outputs": [
    {
     "data": {
      "text/plain": [
       "'\\\\ooo'"
      ]
     },
     "execution_count": 14,
     "metadata": {},
     "output_type": "execute_result"
    }
   ],
   "source": [
    "\"\\ooo\" #Octal"
   ]
  },
  {
   "cell_type": "code",
   "execution_count": 16,
   "id": "7d1b76f3",
   "metadata": {},
   "outputs": [
    {
     "name": "stdout",
     "output_type": "stream",
     "text": [
      "Hola\n"
     ]
    }
   ],
   "source": [
    "hello_spanish_octal = \"\\110\\157\\154\\141\"\n",
    "print(hello_spanish_octal)"
   ]
  },
  {
   "cell_type": "code",
   "execution_count": 18,
   "id": "9c812500",
   "metadata": {},
   "outputs": [],
   "source": [
    "# \"\\xhh\" #Hexadecimal"
   ]
  },
  {
   "cell_type": "code",
   "execution_count": 20,
   "id": "b7616ce2",
   "metadata": {},
   "outputs": [
    {
     "name": "stdout",
     "output_type": "stream",
     "text": [
      "Hola\n"
     ]
    }
   ],
   "source": [
    "hello_spanish_hex = \"\\x48\\x6f\\x6c\\x61\"\n",
    "print(hello_spanish_hex)"
   ]
  },
  {
   "cell_type": "markdown",
   "id": "30b8437c",
   "metadata": {},
   "source": [
    "## Funcion Eval()"
   ]
  },
  {
   "cell_type": "code",
   "execution_count": 21,
   "id": "53502559",
   "metadata": {},
   "outputs": [
    {
     "name": "stdout",
     "output_type": "stream",
     "text": [
      "1022\n"
     ]
    }
   ],
   "source": [
    "my_numb = 22\n",
    "print(eval(\"my_numb+1000\"))"
   ]
  },
  {
   "cell_type": "code",
   "execution_count": 23,
   "id": "a924c72a",
   "metadata": {},
   "outputs": [
    {
     "name": "stdout",
     "output_type": "stream",
     "text": [
      "Ingresa un numero: 32\n"
     ]
    }
   ],
   "source": [
    "my_input = input(\"Ingresa un numero: \")"
   ]
  },
  {
   "cell_type": "code",
   "execution_count": 24,
   "id": "c569d996",
   "metadata": {},
   "outputs": [
    {
     "name": "stdout",
     "output_type": "stream",
     "text": [
      "Ingresa un numero: 324\n",
      "324\n",
      "<class 'int'>\n"
     ]
    }
   ],
   "source": [
    "my_input = eval(input(\"Ingresa un numero: \"))\n",
    "print(my_input)\n",
    "print(type(my_input))"
   ]
  },
  {
   "cell_type": "markdown",
   "id": "cddb503d",
   "metadata": {},
   "source": [
    "## Funcion range() o xrange()"
   ]
  },
  {
   "cell_type": "markdown",
   "id": "c9c1c581",
   "metadata": {},
   "source": [
    "### Range (start,stop,step)"
   ]
  },
  {
   "cell_type": "code",
   "execution_count": 25,
   "id": "f5f47667",
   "metadata": {},
   "outputs": [],
   "source": [
    "x = range(10) "
   ]
  },
  {
   "cell_type": "code",
   "execution_count": 26,
   "id": "e9819078",
   "metadata": {},
   "outputs": [
    {
     "data": {
      "text/plain": [
       "range(0, 10)"
      ]
     },
     "execution_count": 26,
     "metadata": {},
     "output_type": "execute_result"
    }
   ],
   "source": [
    "x"
   ]
  },
  {
   "cell_type": "code",
   "execution_count": 27,
   "id": "953f82d3",
   "metadata": {},
   "outputs": [
    {
     "name": "stdout",
     "output_type": "stream",
     "text": [
      "0\n",
      "1\n",
      "2\n",
      "3\n",
      "4\n",
      "5\n",
      "6\n",
      "7\n",
      "8\n",
      "9\n"
     ]
    }
   ],
   "source": [
    "for number in x: \n",
    "    print(number)"
   ]
  },
  {
   "cell_type": "code",
   "execution_count": 29,
   "id": "11daa6ec",
   "metadata": {},
   "outputs": [
    {
     "name": "stdout",
     "output_type": "stream",
     "text": [
      "3\n",
      "4\n",
      "5\n"
     ]
    }
   ],
   "source": [
    "x = range(3,6)\n",
    "for number in x: \n",
    "    print(number)"
   ]
  },
  {
   "cell_type": "code",
   "execution_count": 30,
   "id": "e9f3fb37",
   "metadata": {},
   "outputs": [
    {
     "name": "stdout",
     "output_type": "stream",
     "text": [
      "3\n",
      "5\n",
      "7\n",
      "9\n",
      "11\n",
      "13\n",
      "15\n",
      "17\n",
      "19\n"
     ]
    }
   ],
   "source": [
    "x = range(3,20,2)\n",
    "for number in x: \n",
    "    print(number)"
   ]
  },
  {
   "cell_type": "markdown",
   "id": "3c16b103",
   "metadata": {},
   "source": [
    "## Mutable or Inmutable"
   ]
  },
  {
   "cell_type": "code",
   "execution_count": 31,
   "id": "b7ab2f23",
   "metadata": {},
   "outputs": [],
   "source": [
    "tuple = (1,2,3,4,5)\n"
   ]
  },
  {
   "cell_type": "code",
   "execution_count": 32,
   "id": "a953a8c5",
   "metadata": {},
   "outputs": [
    {
     "data": {
      "text/plain": [
       "(1, 2, 3, 4, 5)"
      ]
     },
     "execution_count": 32,
     "metadata": {},
     "output_type": "execute_result"
    }
   ],
   "source": [
    "tuple\n"
   ]
  },
  {
   "cell_type": "code",
   "execution_count": 33,
   "id": "38557b33",
   "metadata": {},
   "outputs": [
    {
     "ename": "TypeError",
     "evalue": "'tuple' object does not support item assignment",
     "output_type": "error",
     "traceback": [
      "\u001b[0;31m---------------------------------------------------------------------------\u001b[0m",
      "\u001b[0;31mTypeError\u001b[0m                                 Traceback (most recent call last)",
      "Cell \u001b[0;32mIn[33], line 2\u001b[0m\n\u001b[1;32m      1\u001b[0m \u001b[38;5;66;03m# Inmutability \u001b[39;00m\n\u001b[0;32m----> 2\u001b[0m \u001b[38;5;28mtuple\u001b[39m[\u001b[38;5;241m0\u001b[39m] \u001b[38;5;241m=\u001b[39m \u001b[38;5;241m10\u001b[39m\n",
      "\u001b[0;31mTypeError\u001b[0m: 'tuple' object does not support item assignment"
     ]
    }
   ],
   "source": [
    "# Inmutability \n",
    "tuple[0] = 10\n",
    "#Can't edit tuples or strings "
   ]
  },
  {
   "cell_type": "code",
   "execution_count": 34,
   "id": "83b5a700",
   "metadata": {},
   "outputs": [],
   "source": [
    "Colors = [\"Rojo\", \"Azul\", \"Verde\", \"Negro\"]"
   ]
  },
  {
   "cell_type": "code",
   "execution_count": 35,
   "id": "706e384a",
   "metadata": {},
   "outputs": [],
   "source": [
    "Colors[1] = \"Blanco\""
   ]
  },
  {
   "cell_type": "code",
   "execution_count": 36,
   "id": "d3c26c38",
   "metadata": {},
   "outputs": [
    {
     "data": {
      "text/plain": [
       "['Rojo', 'Blanco', 'Verde', 'Negro']"
      ]
     },
     "execution_count": 36,
     "metadata": {},
     "output_type": "execute_result"
    }
   ],
   "source": [
    "Colors"
   ]
  },
  {
   "cell_type": "code",
   "execution_count": null,
   "id": "9425df4c",
   "metadata": {},
   "outputs": [],
   "source": []
  }
 ],
 "metadata": {
  "kernelspec": {
   "display_name": "Python 3 (ipykernel)",
   "language": "python",
   "name": "python3"
  },
  "language_info": {
   "codemirror_mode": {
    "name": "ipython",
    "version": 3
   },
   "file_extension": ".py",
   "mimetype": "text/x-python",
   "name": "python",
   "nbconvert_exporter": "python",
   "pygments_lexer": "ipython3",
   "version": "3.11.4"
  }
 },
 "nbformat": 4,
 "nbformat_minor": 5
}
