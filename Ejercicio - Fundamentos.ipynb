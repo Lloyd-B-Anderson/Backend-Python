{
 "cells": [
  {
   "cell_type": "code",
   "execution_count": 39,
   "id": "8392ee81",
   "metadata": {},
   "outputs": [
    {
     "name": "stdout",
     "output_type": "stream",
     "text": [
      "Ingresa un tu edad, nombre y estatura spearados por una coma: 24, Lloyd, 1.90\n",
      "Tu nombre es:  Lloyd (<class 'str'>)\n",
      "Tienes 24 años (<class 'int'>)\n",
      "Mides 1.9mts (<class 'float'>)\n"
     ]
    }
   ],
   "source": [
    "itgr, stg, flt = input(\"Ingresa un tu edad, nombre y estatura spearados por una coma: \").split(\",\")\n",
    "\n",
    "igr = eval(itgr)\n",
    "ft = eval(flt)\n",
    "\n",
    "print(f\"Tu nombre es: {stg} ({type(stg)})\\nTienes {igr} años ({type(igr)})\\nMides {ft}mts ({type(ft)})\")\n"
   ]
  },
  {
   "cell_type": "code",
   "execution_count": null,
   "id": "fee37462",
   "metadata": {},
   "outputs": [],
   "source": []
  }
 ],
 "metadata": {
  "kernelspec": {
   "display_name": "Python 3 (ipykernel)",
   "language": "python",
   "name": "python3"
  },
  "language_info": {
   "codemirror_mode": {
    "name": "ipython",
    "version": 3
   },
   "file_extension": ".py",
   "mimetype": "text/x-python",
   "name": "python",
   "nbconvert_exporter": "python",
   "pygments_lexer": "ipython3",
   "version": "3.11.4"
  }
 },
 "nbformat": 4,
 "nbformat_minor": 5
}
